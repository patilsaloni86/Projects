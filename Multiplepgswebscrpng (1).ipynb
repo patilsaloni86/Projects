{
 "cells": [
  {
   "cell_type": "code",
   "execution_count": 1,
   "id": "d9ab10d9-2759-4495-85bf-6f5a357fd289",
   "metadata": {},
   "outputs": [],
   "source": [
    "from bs4 import BeautifulSoup\n",
    "import requests\n",
    "import pandas as pd"
   ]
  },
  {
   "cell_type": "code",
   "execution_count": 2,
   "id": "93d7621c-2e4a-46b8-a6dc-6880ea0c2863",
   "metadata": {},
   "outputs": [],
   "source": [
    "product_name=[]\n",
    "price=[]\n",
    "reviews=[]"
   ]
  },
  {
   "cell_type": "code",
   "execution_count": 3,
   "id": "5d2180bf-589f-4ec6-9dd0-b17be7ae04aa",
   "metadata": {},
   "outputs": [],
   "source": [
    "for i in range(1,10):\n",
    "    url='https://www.nykaa.com/makeup/eyes/eyeliner/c/240?page_no='+str(i)+'&sort=popularity&search_redirection=True&eq=desktop'\n",
    "    r=requests.get(url)\n",
    "    soup=BeautifulSoup(r.text)\n",
    "    names=soup.find_all('div',class_='css-xrzmfa')\n",
    "    for i in names:\n",
    "        name=i.text\n",
    "        product_name.append(name)\n",
    "    mrp=soup.find_all('span',class_='css-111z9ua')\n",
    "    for i in mrp:\n",
    "        pric=i.text\n",
    "        price.append(pric)\n",
    "    ratg=soup.find_all('span',class_='css-1qbvrhp')\n",
    "    for i in ratg:\n",
    "        name_count = len(names)\n",
    "        review_texts = [r.text.strip() for r in ratg]\n",
    "\n",
    "    while len(review_texts) < name_count:\n",
    "        review_texts.append(\"N/A\")\n",
    "    reviews.extend(review_texts[:name_count])"
   ]
  },
  {
   "cell_type": "code",
   "execution_count": 4,
   "id": "d9b2f31a-f75d-4c38-b7eb-a9f8e42800e6",
   "metadata": {},
   "outputs": [
    {
     "data": {
      "text/plain": [
       "180"
      ]
     },
     "execution_count": 4,
     "metadata": {},
     "output_type": "execute_result"
    }
   ],
   "source": [
    "len(product_name)"
   ]
  },
  {
   "cell_type": "code",
   "execution_count": 5,
   "id": "ec20b18e-2251-4473-a46d-dc3d6c13fabf",
   "metadata": {},
   "outputs": [
    {
     "data": {
      "text/plain": [
       "180"
      ]
     },
     "execution_count": 5,
     "metadata": {},
     "output_type": "execute_result"
    }
   ],
   "source": [
    "len(price)"
   ]
  },
  {
   "cell_type": "code",
   "execution_count": 6,
   "id": "c037c276-ba61-43a4-922d-d6e393c81b4a",
   "metadata": {},
   "outputs": [
    {
     "data": {
      "text/plain": [
       "180"
      ]
     },
     "execution_count": 6,
     "metadata": {},
     "output_type": "execute_result"
    }
   ],
   "source": [
    "len(reviews)"
   ]
  },
  {
   "cell_type": "code",
   "execution_count": 7,
   "id": "51a59d42-b9ea-4f60-b578-eb267a97fd1f",
   "metadata": {},
   "outputs": [
    {
     "data": {
      "text/html": [
       "<div>\n",
       "<style scoped>\n",
       "    .dataframe tbody tr th:only-of-type {\n",
       "        vertical-align: middle;\n",
       "    }\n",
       "\n",
       "    .dataframe tbody tr th {\n",
       "        vertical-align: top;\n",
       "    }\n",
       "\n",
       "    .dataframe thead th {\n",
       "        text-align: right;\n",
       "    }\n",
       "</style>\n",
       "<table border=\"1\" class=\"dataframe\">\n",
       "  <thead>\n",
       "    <tr style=\"text-align: right;\">\n",
       "      <th></th>\n",
       "      <th>Product</th>\n",
       "      <th>Price</th>\n",
       "      <th>Reviews</th>\n",
       "    </tr>\n",
       "  </thead>\n",
       "  <tbody>\n",
       "    <tr>\n",
       "      <th>0</th>\n",
       "      <td>Nykaa Cosmetics Stardust Dual Chrome Eyeliner ...</td>\n",
       "      <td>₹359</td>\n",
       "      <td>( 909 )</td>\n",
       "    </tr>\n",
       "    <tr>\n",
       "      <th>1</th>\n",
       "      <td>Lakme 9 To 5 Eyeconic Liquid Eyeliner Matte Fi...</td>\n",
       "      <td>₹150</td>\n",
       "      <td>( 57289 )</td>\n",
       "    </tr>\n",
       "    <tr>\n",
       "      <th>2</th>\n",
       "      <td>Maybelline New York High Impact Tattoo Pen Lin...</td>\n",
       "      <td>₹407</td>\n",
       "      <td>( 14606 )</td>\n",
       "    </tr>\n",
       "    <tr>\n",
       "      <th>3</th>\n",
       "      <td>Kay Beauty Quick Dry Liquid Eyeliner</td>\n",
       "      <td>₹479</td>\n",
       "      <td>( 21836 )</td>\n",
       "    </tr>\n",
       "    <tr>\n",
       "      <th>4</th>\n",
       "      <td>Swiss Beauty Holographic Eyeliner</td>\n",
       "      <td>₹359</td>\n",
       "      <td>( 9998 )</td>\n",
       "    </tr>\n",
       "    <tr>\n",
       "      <th>...</th>\n",
       "      <td>...</td>\n",
       "      <td>...</td>\n",
       "      <td>...</td>\n",
       "    </tr>\n",
       "    <tr>\n",
       "      <th>175</th>\n",
       "      <td>Lakme Insta Eyeliner Combo - Black and Blue</td>\n",
       "      <td>₹323</td>\n",
       "      <td>( 86383 )</td>\n",
       "    </tr>\n",
       "    <tr>\n",
       "      <th>176</th>\n",
       "      <td>Praush Constant Liner</td>\n",
       "      <td>₹468</td>\n",
       "      <td>( 712 )</td>\n",
       "    </tr>\n",
       "    <tr>\n",
       "      <th>177</th>\n",
       "      <td>Chambor Colour Studio Le Shimmer Eyeliner</td>\n",
       "      <td>₹633</td>\n",
       "      <td>( 4 )</td>\n",
       "    </tr>\n",
       "    <tr>\n",
       "      <th>178</th>\n",
       "      <td>AYA Waterproof Eyeliner - Green And Blue (Set ...</td>\n",
       "      <td>₹498</td>\n",
       "      <td>( 412 )</td>\n",
       "    </tr>\n",
       "    <tr>\n",
       "      <th>179</th>\n",
       "      <td>MARS Free Flow Liquid Eyeliner</td>\n",
       "      <td>₹208</td>\n",
       "      <td>( 721 )</td>\n",
       "    </tr>\n",
       "  </tbody>\n",
       "</table>\n",
       "<p>180 rows × 3 columns</p>\n",
       "</div>"
      ],
      "text/plain": [
       "                                               Product Price    Reviews\n",
       "0    Nykaa Cosmetics Stardust Dual Chrome Eyeliner ...  ₹359    ( 909 )\n",
       "1    Lakme 9 To 5 Eyeconic Liquid Eyeliner Matte Fi...  ₹150  ( 57289 )\n",
       "2    Maybelline New York High Impact Tattoo Pen Lin...  ₹407  ( 14606 )\n",
       "3                 Kay Beauty Quick Dry Liquid Eyeliner  ₹479  ( 21836 )\n",
       "4                    Swiss Beauty Holographic Eyeliner  ₹359   ( 9998 )\n",
       "..                                                 ...   ...        ...\n",
       "175        Lakme Insta Eyeliner Combo - Black and Blue  ₹323  ( 86383 )\n",
       "176                              Praush Constant Liner  ₹468    ( 712 )\n",
       "177          Chambor Colour Studio Le Shimmer Eyeliner  ₹633      ( 4 )\n",
       "178  AYA Waterproof Eyeliner - Green And Blue (Set ...  ₹498    ( 412 )\n",
       "179                     MARS Free Flow Liquid Eyeliner  ₹208    ( 721 )\n",
       "\n",
       "[180 rows x 3 columns]"
      ]
     },
     "execution_count": 7,
     "metadata": {},
     "output_type": "execute_result"
    }
   ],
   "source": [
    "df=pd.DataFrame({\"Product\":product_name,\"Price\":price,\"Reviews\":reviews})\n",
    "df"
   ]
  },
  {
   "cell_type": "code",
   "execution_count": null,
   "id": "40b8c41d-1660-4cbd-937a-979855737033",
   "metadata": {},
   "outputs": [],
   "source": []
  }
 ],
 "metadata": {
  "kernelspec": {
   "display_name": "Python 3 (ipykernel)",
   "language": "python",
   "name": "python3"
  },
  "language_info": {
   "codemirror_mode": {
    "name": "ipython",
    "version": 3
   },
   "file_extension": ".py",
   "mimetype": "text/x-python",
   "name": "python",
   "nbconvert_exporter": "python",
   "pygments_lexer": "ipython3",
   "version": "3.12.7"
  }
 },
 "nbformat": 4,
 "nbformat_minor": 5
}
